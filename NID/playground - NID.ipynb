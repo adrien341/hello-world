{
 "cells": [
  {
   "cell_type": "code",
   "execution_count": 1,
   "metadata": {},
   "outputs": [],
   "source": [
    "import numpy as np\n",
    "import matplotlib.pyplot as plt\n",
    "import time\n",
    "from IPython.display import clear_output\n",
    "import pandas as pd"
   ]
  },
  {
   "cell_type": "code",
   "execution_count": 2,
   "metadata": {},
   "outputs": [
    {
     "name": "stdout",
     "output_type": "stream",
     "text": [
      "       Unnamed: 0                     name   count\n",
      "0              11                 Bacteria  177137\n",
      "1             246           Entamoeba coli   44665\n",
      "2             114                    Fungi   42807\n",
      "3             158                Mammalian   32036\n",
      "4             216               Microbiota   29069\n",
      "...           ...                      ...     ...\n",
      "91162       67465  Arthroleptis phrynoides       1\n",
      "91163       67464   Telmatobius vilamensis       1\n",
      "91164       67463   Telmatobius verrucosus       1\n",
      "91165       67462   Telmatobius marmoratus       1\n",
      "91166       91166                  Wolfius       1\n",
      "\n",
      "[91167 rows x 3 columns]\n"
     ]
    }
   ],
   "source": [
    "# load species.csv\n",
    "df = pd.read_csv(r'species.csv')\n",
    "print(df)"
   ]
  },
  {
   "cell_type": "code",
   "execution_count": 3,
   "metadata": {},
   "outputs": [],
   "source": [
    "def random_nid(taxon_list):\n",
    "        return np.random.choice(taxon_list)"
   ]
  },
  {
   "cell_type": "code",
   "execution_count": 4,
   "metadata": {},
   "outputs": [
    {
     "data": {
      "text/plain": [
       "<bound method NDFrame.head of        Unnamed: 0                     name   count\n",
       "0              11                 Bacteria  177137\n",
       "1             246           Entamoeba coli   44665\n",
       "2             114                    Fungi   42807\n",
       "3             158                Mammalian   32036\n",
       "4             216               Microbiota   29069\n",
       "...           ...                      ...     ...\n",
       "91162       67465  Arthroleptis phrynoides       1\n",
       "91163       67464   Telmatobius vilamensis       1\n",
       "91164       67463   Telmatobius verrucosus       1\n",
       "91165       67462   Telmatobius marmoratus       1\n",
       "91166       91166                  Wolfius       1\n",
       "\n",
       "[91167 rows x 3 columns]>"
      ]
     },
     "execution_count": 4,
     "metadata": {},
     "output_type": "execute_result"
    }
   ],
   "source": [
    "df.head"
   ]
  },
  {
   "cell_type": "code",
   "execution_count": 5,
   "metadata": {},
   "outputs": [],
   "source": [
    "taxon_rare = df[df[\"count\"] < 10000]\n",
    "taxon_list = taxon_rare.name.tolist()\n",
    "#print(taxon_list)"
   ]
  },
  {
   "cell_type": "code",
   "execution_count": 10,
   "metadata": {},
   "outputs": [
    {
     "name": "stdout",
     "output_type": "stream",
     "text": [
      "red milkweed beetle\n"
     ]
    }
   ],
   "source": [
    "your_pokemon = random_nid(taxon_list)\n",
    "print(your_pokemon)"
   ]
  },
  {
   "cell_type": "code",
   "execution_count": 17,
   "metadata": {},
   "outputs": [],
   "source": []
  }
 ],
 "metadata": {
  "kernelspec": {
   "display_name": "venvKarine",
   "language": "python",
   "name": "python3"
  },
  "language_info": {
   "codemirror_mode": {
    "name": "ipython",
    "version": 3
   },
   "file_extension": ".py",
   "mimetype": "text/x-python",
   "name": "python",
   "nbconvert_exporter": "python",
   "pygments_lexer": "ipython3",
   "version": "3.8.10"
  },
  "orig_nbformat": 4,
  "vscode": {
   "interpreter": {
    "hash": "d78e0bbb5c3b7fb74acb9bb4e2aae5d36efdceb8c3d708d91ff9ecaa249cbd18"
   }
  }
 },
 "nbformat": 4,
 "nbformat_minor": 2
}
